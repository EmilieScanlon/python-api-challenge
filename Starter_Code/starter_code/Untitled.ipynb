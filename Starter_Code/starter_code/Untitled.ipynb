{
 "cells": [
  {
   "cell_type": "code",
   "execution_count": 3,
   "id": "ab9e14d3-37a3-4066-8948-a572fbf3afb4",
   "metadata": {
    "tags": []
   },
   "outputs": [
    {
     "name": "stdout",
     "output_type": "stream",
     "text": [
      "Response:\n",
      "{'results': [{'datasource': {'sourcename': 'openstreetmap', 'attribution': '© OpenStreetMap contributors', 'license': 'Open Database License', 'url': 'https://www.openstreetmap.org/copyright'}, 'country': 'United States', 'country_code': 'us', 'state': 'New York', 'city': 'New York', 'lon': -74.0060152, 'lat': 40.7127281, 'state_code': 'NY', 'result_type': 'city', 'formatted': 'New York, NY, United States of America', 'address_line1': 'New York, NY', 'address_line2': 'United States of America', 'category': 'administrative', 'timezone': {'name': 'America/New_York', 'offset_STD': '-05:00', 'offset_STD_seconds': -18000, 'offset_DST': '-04:00', 'offset_DST_seconds': -14400, 'abbreviation_STD': 'EST', 'abbreviation_DST': 'EDT'}, 'plus_code': '87G7PX7V+3H', 'plus_code_short': '7V+3H New York, New York, United States', 'rank': {'importance': 1.017576611451846, 'popularity': 9.615793062435909, 'confidence': 1, 'confidence_city_level': 1, 'match_type': 'full_match'}, 'place_id': '51d9d1938d628052c0595938a4ac3a5b4440f00101f90121af020000000000c00208', 'bbox': {'lon1': -74.258843, 'lat1': 40.476578, 'lon2': -73.700233, 'lat2': 40.91763}}, {'datasource': {'sourcename': 'openstreetmap', 'attribution': '© OpenStreetMap contributors', 'license': 'Open Database License', 'url': 'https://www.openstreetmap.org/copyright'}, 'ref': 'NY', 'country': 'United States', 'country_code': 'us', 'state': 'New York', 'lon': -75.8449946, 'lat': 43.1561681, 'state_code': 'NY', 'result_type': 'state', 'formatted': 'New York, United States of America', 'address_line1': 'New York', 'address_line2': 'United States of America', 'category': 'administrative', 'timezone': {'name': 'America/New_York', 'offset_STD': '-05:00', 'offset_STD_seconds': -18000, 'offset_DST': '-04:00', 'offset_DST_seconds': -14400, 'abbreviation_STD': 'EST', 'abbreviation_DST': 'EDT'}, 'plus_code': '87M65544+F2', 'rank': {'importance': 0.9655846409089575, 'popularity': 2.1199203689253245, 'confidence': 1, 'match_type': 'full_match'}, 'place_id': '51fc123b6414f652c059d816f950fd934540f00101f90188ef000000000000c0020a', 'bbox': {'lon1': -79.7619758, 'lat1': 40.476578, 'lon2': -71.790972, 'lat2': 45.0158611}}, {'datasource': {'sourcename': 'openstreetmap', 'attribution': '© OpenStreetMap contributors', 'license': 'Open Database License', 'url': 'https://www.openstreetmap.org/copyright'}, 'name': 'New York', 'country': 'United States', 'country_code': 'us', 'state': 'Florida', 'county': 'Santa Rosa County', 'city': 'New York', 'hamlet': 'New York', 'lon': -87.2008048, 'lat': 30.8385202, 'state_code': 'FL', 'result_type': 'city', 'formatted': 'New York (New York), FL, United States of America', 'address_line1': 'New York (New York), FL', 'address_line2': 'United States of America', 'category': 'populated_place', 'timezone': {'name': 'America/Chicago', 'offset_STD': '-06:00', 'offset_STD_seconds': -21600, 'offset_DST': '-05:00', 'offset_DST_seconds': -18000, 'abbreviation_STD': 'CST', 'abbreviation_DST': 'CDT'}, 'plus_code': '862JRQQX+CM', 'rank': {'importance': 0.45000999999999997, 'popularity': 1.5129938301678085, 'confidence': 1, 'confidence_city_level': 1, 'match_type': 'full_match'}, 'place_id': '514f3860fcd9cc55c0590f098442a9d63e40f00103f901a933260900000000c002089203084e657720596f726b', 'bbox': {'lon1': -87.2208048, 'lat1': 30.8185202, 'lon2': -87.1808048, 'lat2': 30.8585202}}, {'datasource': {'sourcename': 'openstreetmap', 'attribution': '© OpenStreetMap contributors', 'license': 'Open Database License', 'url': 'https://www.openstreetmap.org/copyright'}, 'name': 'New York', 'country': 'United States', 'country_code': 'us', 'state': 'Missouri', 'county': 'Caldwell County', 'city': 'New York', 'hamlet': 'New York', 'lon': -93.9268836, 'lat': 39.6852874, 'state_code': 'MO', 'result_type': 'city', 'formatted': 'New York (New York), MO, United States of America', 'address_line1': 'New York (New York), MO', 'address_line2': 'United States of America', 'category': 'populated_place', 'timezone': {'name': 'America/Chicago', 'offset_STD': '-06:00', 'offset_STD_seconds': -21600, 'offset_DST': '-05:00', 'offset_DST_seconds': -18000, 'abbreviation_STD': 'CST', 'abbreviation_DST': 'CDT'}, 'plus_code': '86F8M3PF+46', 'rank': {'importance': 0.45000999999999997, 'popularity': 1.4315437008982035, 'confidence': 1, 'confidence_city_level': 1, 'match_type': 'full_match'}, 'place_id': '51b84c970f527b57c05931ae5d7fb7d74340f00103f9019b610e0900000000c002089203084e657720596f726b', 'bbox': {'lon1': -93.9468836, 'lat1': 39.6652874, 'lon2': -93.9068836, 'lat2': 39.7052874}}, {'datasource': {'sourcename': 'openstreetmap', 'attribution': '© OpenStreetMap contributors', 'license': 'Open Database License', 'url': 'https://www.openstreetmap.org/copyright'}, 'name': 'New York', 'country': 'United States', 'country_code': 'us', 'state': 'Kentucky', 'county': 'Ballard County', 'city': 'New York', 'hamlet': 'New York', 'lon': -88.9525629, 'lat': 36.9889428, 'state_code': 'KY', 'result_type': 'city', 'formatted': 'New York (New York), KY, United States of America', 'address_line1': 'New York (New York), KY', 'address_line2': 'United States of America', 'category': 'populated_place', 'timezone': {'name': 'America/Chicago', 'offset_STD': '-06:00', 'offset_STD_seconds': -21600, 'offset_DST': '-05:00', 'offset_DST_seconds': -18000, 'abbreviation_STD': 'CST', 'abbreviation_DST': 'CDT'}, 'plus_code': '868HX2QW+HX', 'rank': {'importance': 0.4372938346316069, 'popularity': 1.4699707993067055, 'confidence': 1, 'confidence_city_level': 1, 'match_type': 'full_match'}, 'place_id': '5182b861caf63c56c059adce7bad957e4240f00103f9019bbc270900000000c002089203084e657720596f726b', 'bbox': {'lon1': -88.9725629, 'lat1': 36.9689428, 'lon2': -88.9325629, 'lat2': 37.0089428}}], 'query': {'text': 'New York', 'parsed': {'state': 'new york', 'expected_type': 'unknown'}}}\n"
     ]
    }
   ],
   "source": [
    "import requests\n",
    "\n",
    "# Define the API key\n",
    "api_key = \"8febc274d4ce46abbe84b9339c85bcca\"\n",
    "\n",
    "# Set parameters for the city search\n",
    "city_name = \"New York\"\n",
    "params = {\n",
    "    \"text\": city_name,\n",
    "    \"apiKey\": api_key,\n",
    "    \"format\": \"json\"\n",
    "}\n",
    "\n",
    "# Set the base URL for city search\n",
    "base_url = \"https://api.geoapify.com/v1/geocode/search\"\n",
    "\n",
    "# Make the API request to search for the city's coordinates\n",
    "response = requests.get(base_url, params=params)\n",
    "\n",
    "# Check if the request was successful\n",
    "if response.status_code == 200:\n",
    "    # Convert the API response to JSON format\n",
    "    data = response.json()\n",
    "    \n",
    "    # Print the response\n",
    "    print(\"Response:\")\n",
    "    print(data)\n",
    "else:\n",
    "    print(f\"Error: {response.status_code} - {response.reason}\")\n",
    "    "
   ]
  },
  {
   "cell_type": "code",
   "execution_count": null,
   "id": "8020dae5-504c-4dbf-bf74-57408bcf9e29",
   "metadata": {},
   "outputs": [],
   "source": []
  }
 ],
 "metadata": {
  "kernelspec": {
   "display_name": "Python 3 (ipykernel)",
   "language": "python",
   "name": "python3"
  },
  "language_info": {
   "codemirror_mode": {
    "name": "ipython",
    "version": 3
   },
   "file_extension": ".py",
   "mimetype": "text/x-python",
   "name": "python",
   "nbconvert_exporter": "python",
   "pygments_lexer": "ipython3",
   "version": "3.11.7"
  }
 },
 "nbformat": 4,
 "nbformat_minor": 5
}
